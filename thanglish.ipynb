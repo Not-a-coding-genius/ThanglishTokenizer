{
  "nbformat": 4,
  "nbformat_minor": 0,
  "metadata": {
    "colab": {
      "provenance": []
    },
    "kernelspec": {
      "name": "python3",
      "display_name": "Python 3"
    },
    "language_info": {
      "name": "python"
    }
  },
  "cells": [
    {
      "cell_type": "code",
      "source": [
        "import pandas as pd\n",
        "\n",
        "def concatenate_column(input_tsv, column_name, output_text):\n",
        "    # Read the TSV file into a DataFrame\n",
        "    df = pd.read_csv(input_tsv, sep='\\t')\n",
        "\n",
        "    # Check if the specified column exists in the DataFrame\n",
        "    if column_name not in df.columns:\n",
        "        print(f\"Column '{column_name}' not found in the TSV file.\")\n",
        "        return\n",
        "\n",
        "    # Extract the specified column\n",
        "    selected_column = df[column_name]\n",
        "\n",
        "    # Concatenate the values into a single string\n",
        "    concatenated_text = '\\n'.join(selected_column.astype(str))\n",
        "\n",
        "    # Write the concatenated text to a text file\n",
        "    with open(output_text, 'w') as file:\n",
        "        file.write(concatenated_text)\n",
        "\n",
        "    print(f\"Concatenated text has been written to '{output_text}'.\")\n",
        "\n",
        "# Example usage:\n",
        "input_tsv_file = 'data.tsv'\n",
        "desired_column = 'text'\n",
        "output_text_file = 'file.txt'\n",
        "\n",
        "concatenate_column(input_tsv_file, desired_column, output_text_file)"
      ],
      "metadata": {
        "id": "UrDWOvbM0jLw"
      },
      "execution_count": null,
      "outputs": []
    },
    {
      "cell_type": "code",
      "source": [
        "# read it in to inspect it\n",
        "with open('file.txt', 'r', encoding='utf-8') as f:\n",
        "    text = f.read()"
      ],
      "metadata": {
        "id": "O6medjfRsLD9"
      },
      "execution_count": null,
      "outputs": []
    },
    {
      "cell_type": "code",
      "source": [
        "print(\"length of dataset in characters: \", len(text))"
      ],
      "metadata": {
        "colab": {
          "base_uri": "https://localhost:8080/"
        },
        "id": "6xWI_VyAsN8F",
        "outputId": "9d26007d-1457-4a56-d8f7-8d5d340ff2e1"
      },
      "execution_count": null,
      "outputs": [
        {
          "output_type": "stream",
          "name": "stdout",
          "text": [
            "length of dataset in characters:  181781\n"
          ]
        }
      ]
    },
    {
      "cell_type": "code",
      "source": [
        "# let's look at the first 1000 characters\n",
        "print(text[:1000])"
      ],
      "metadata": {
        "colab": {
          "base_uri": "https://localhost:8080/"
        },
        "id": "2c5V0FvqseE0",
        "outputId": "1f575e74-2f00-4d01-f0c2-f3f78e91c87a"
      },
      "execution_count": null,
      "outputs": [
        {
          "output_type": "stream",
          "name": "stdout",
          "text": [
            "Yarayellam FDFS ppga ippove ready agitinga\n",
            "Ennada viswasam mersal sarkar madhri time la likes and views create pannalayae\n",
            "yuvan vera level ya .... valuable script. SK in action\n",
            "70 vayasulayum thanoda rasigargala sandhosapadutha ipdi ulaikuraru ivara poi kayapaduthuranungale echainga ulachu vaalanum\n",
            "all the best anna...Telugu makkal selvan fans\n",
            "1:17 verithanama iruku nu solravanga like podunga\n",
            "mokka ya tha iruku trailer antha level ku perusa onnum illa\n",
            "Vera level next movie Ida vida bayangaram ha irukunum\n",
            "Saamy2 hindi dubbed kb la rahe ho\n",
            "Verithanamana trailer aiyoo Diwali kaithi Diwali🤩🤩\n",
            "Shakti maaaaaan. sankarji vazhangum Sakthi man 2.0. . Ondru Hollywood tharathukku meala illa atharku nikaraanatha irukanum.\n",
            "wait and watch ennu neraya neraya neraya Erika Thala mass activity's\n",
            "Tamizha Na la mudiyatha thu ethuvume illa...#Sankar sir proof it...2.0v va support pannuvom  Na like pannunga\n",
            "Jai... Vijay Sethu pathi Jai.... Chiranjeevaa.... Syeraa... Narasimha Reddy Syeraa.... Vijay pandya\n",
            "Pa\n"
          ]
        }
      ]
    },
    {
      "cell_type": "code",
      "source": [
        "# here are all the unique characters that occur in this text\n",
        "chars = sorted(list(set(text)))\n",
        "vocab_size = len(chars)\n",
        "print(''.join(chars))\n",
        "print(vocab_size)"
      ],
      "metadata": {
        "colab": {
          "base_uri": "https://localhost:8080/"
        },
        "id": "0e-Rbyr8sfM8",
        "outputId": "c3b7eb49-1837-4811-e0a6-aaff324837cd"
      },
      "execution_count": null,
      "outputs": [
        {
          "output_type": "stream",
          "name": "stdout",
          "text": [
            "\n",
            " !\"#$%&'()*+,-./0123456789:;<=>?@ABCDEFGHIJKLMNOPQRSTUVWXYZ\\_abcdefghijklmnopqrstuvwxyzÏàíóôĺ̷̿ασАИРТавгезиклмнорстучєѕંકજટતનપરસાીુે્அஇஒஓகஙசஜடணதநனபமயரறலளழவஸாிீுெேைொோ்ంఅఒకగచజణతదనఫమయరలవసహాిీుేో్ಂಅಇಈಎಕಖಗಚಜಟಡತದನಪಬಭಮಯರಲಳವಶಷಸಹಾಿೀುೃೆೇೈೊೋ್അഇകഗടതദധഫമയറലളസഹാിുേൈോ്ൻൾ‌‍‘’“”₹🤒🤓🤔🤕🤗🤘🤙🤜🤝🤟🤢🤣🤦🤧🤨🤩🤪🤫🤬🤭🤮🤵🤷🤸🥰🥳🦇🧡\n",
            "292\n"
          ]
        }
      ]
    },
    {
      "cell_type": "code",
      "source": [
        "# create a mapping from characters to integers\n",
        "stoi = { ch:i for i,ch in enumerate(chars) }\n",
        "itos = { i:ch for i,ch in enumerate(chars) }\n",
        "encode = lambda s: [stoi[c] for c in s] # encoder: take a string, output a list of integers\n",
        "decode = lambda l: ''.join([itos[i] for i in l]) # decoder: take a list of integers, output a string\n",
        "\n",
        "print(encode(\"hii there\"))\n",
        "print(decode(encode(\"hii there\")))"
      ],
      "metadata": {
        "colab": {
          "base_uri": "https://localhost:8080/"
        },
        "id": "Yw1LKNCgwjj1",
        "outputId": "5984177a-a9a4-42d0-f95a-8a03fd165f61"
      },
      "execution_count": null,
      "outputs": [
        {
          "output_type": "stream",
          "name": "stdout",
          "text": [
            "[69, 70, 70, 1, 81, 69, 66, 79, 66]\n",
            "hii there\n"
          ]
        }
      ]
    },
    {
      "cell_type": "code",
      "source": [
        "# let's now encode the entire text dataset and store it into a torch.Tensor\n",
        "import torch\n",
        "data = torch.tensor(encode(text), dtype=torch.long)\n",
        "print(data.shape, data.dtype)\n",
        "print(data[:1000]) # the 1000 characters we looked at earier will to the GPT look like this"
      ],
      "metadata": {
        "colab": {
          "base_uri": "https://localhost:8080/"
        },
        "id": "YJb0OXPwzvqg",
        "outputId": "6cf79cb0-9677-44e5-a7ab-193f81673421"
      },
      "execution_count": null,
      "outputs": [
        {
          "output_type": "stream",
          "name": "stdout",
          "text": [
            "torch.Size([181781]) torch.int64\n",
            "tensor([ 58,  62,  79,  62,  86,  66,  73,  73,  62,  74,   1,  39,  37,  39,\n",
            "         52,   1,  77,  77,  68,  62,   1,  70,  77,  77,  76,  83,  66,   1,\n",
            "         79,  66,  62,  65,  86,   1,  62,  68,  70,  81,  70,  75,  68,  62,\n",
            "          0,  38,  75,  75,  62,  65,  62,   1,  83,  70,  80,  84,  62,  80,\n",
            "         62,  74,   1,  74,  66,  79,  80,  62,  73,   1,  80,  62,  79,  72,\n",
            "         62,  79,   1,  74,  62,  65,  69,  79,  70,   1,  81,  70,  74,  66,\n",
            "          1,  73,  62,   1,  73,  70,  72,  66,  80,   1,  62,  75,  65,   1,\n",
            "         83,  70,  66,  84,  80,   1,  64,  79,  66,  62,  81,  66,   1,  77,\n",
            "         62,  75,  75,  62,  73,  62,  86,  62,  66,   0,  86,  82,  83,  62,\n",
            "         75,   1,  83,  66,  79,  62,   1,  73,  66,  83,  66,  73,   1,  86,\n",
            "         62,   1,  15,  15,  15,  15,   1,  83,  62,  73,  82,  62,  63,  73,\n",
            "         66,   1,  80,  64,  79,  70,  77,  81,  15,   1,  52,  44,   1,  70,\n",
            "         75,   1,  62,  64,  81,  70,  76,  75,   0,  24,  17,   1,  83,  62,\n",
            "         86,  62,  80,  82,  73,  62,  86,  82,  74,   1,  81,  69,  62,  75,\n",
            "         76,  65,  62,   1,  79,  62,  80,  70,  68,  62,  79,  68,  62,  73,\n",
            "         62,   1,  80,  62,  75,  65,  69,  76,  80,  62,  77,  62,  65,  82,\n",
            "         81,  69,  62,   1,  70,  77,  65,  70,   1,  82,  73,  62,  70,  72,\n",
            "         82,  79,  62,  79,  82,   1,  70,  83,  62,  79,  62,   1,  77,  76,\n",
            "         70,   1,  72,  62,  86,  62,  77,  62,  65,  82,  81,  69,  82,  79,\n",
            "         62,  75,  82,  75,  68,  62,  73,  66,   1,  66,  64,  69,  62,  70,\n",
            "         75,  68,  62,   1,  82,  73,  62,  64,  69,  82,   1,  83,  62,  62,\n",
            "         73,  62,  75,  82,  74,   0,  62,  73,  73,   1,  81,  69,  66,   1,\n",
            "         63,  66,  80,  81,   1,  62,  75,  75,  62,  15,  15,  15,  53,  66,\n",
            "         73,  82,  68,  82,   1,  74,  62,  72,  72,  62,  73,   1,  80,  66,\n",
            "         73,  83,  62,  75,   1,  67,  62,  75,  80,   0,  18,  27,  18,  24,\n",
            "          1,  83,  66,  79,  70,  81,  69,  62,  75,  62,  74,  62,   1,  70,\n",
            "         79,  82,  72,  82,   1,  75,  82,   1,  80,  76,  73,  79,  62,  83,\n",
            "         62,  75,  68,  62,   1,  73,  70,  72,  66,   1,  77,  76,  65,  82,\n",
            "         75,  68,  62,   0,  74,  76,  72,  72,  62,   1,  86,  62,   1,  81,\n",
            "         69,  62,   1,  70,  79,  82,  72,  82,   1,  81,  79,  62,  70,  73,\n",
            "         66,  79,   1,  62,  75,  81,  69,  62,   1,  73,  66,  83,  66,  73,\n",
            "          1,  72,  82,   1,  77,  66,  79,  82,  80,  62,   1,  76,  75,  75,\n",
            "         82,  74,   1,  70,  73,  73,  62,   0,  55,  66,  79,  62,   1,  73,\n",
            "         66,  83,  66,  73,   1,  75,  66,  85,  81,   1,  74,  76,  83,  70,\n",
            "         66,   1,  42,  65,  62,   1,  83,  70,  65,  62,   1,  63,  62,  86,\n",
            "         62,  75,  68,  62,  79,  62,  74,   1,  69,  62,   1,  70,  79,  82,\n",
            "         72,  82,  75,  82,  74,   0,  52,  62,  62,  74,  86,  19,   1,  69,\n",
            "         70,  75,  65,  70,   1,  65,  82,  63,  63,  66,  65,   1,  72,  63,\n",
            "          1,  73,  62,   1,  79,  62,  69,  66,   1,  69,  76,   0,  55,  66,\n",
            "         79,  70,  81,  69,  62,  75,  62,  74,  62,  75,  62,   1,  81,  79,\n",
            "         62,  70,  73,  66,  79,   1,  62,  70,  86,  76,  76,   1,  37,  70,\n",
            "         84,  62,  73,  70,   1,  72,  62,  70,  81,  69,  70,   1,  37,  70,\n",
            "         84,  62,  73,  70, 279, 279,   0,  52,  69,  62,  72,  81,  70,   1,\n",
            "         74,  62,  62,  62,  62,  62,  62,  75,  15,   1,  80,  62,  75,  72,\n",
            "         62,  79,  71,  70,   1,  83,  62,  87,  69,  62,  75,  68,  82,  74,\n",
            "          1,  52,  62,  72,  81,  69,  70,   1,  74,  62,  75,   1,  19,  15,\n",
            "         17,  15,   1,  15,   1,  48,  75,  65,  79,  82,   1,  41,  76,  73,\n",
            "         73,  86,  84,  76,  76,  65,   1,  81,  69,  62,  79,  62,  81,  69,\n",
            "         82,  72,  72,  82,   1,  74,  66,  62,  73,  62,   1,  70,  73,  73,\n",
            "         62,   1,  62,  81,  69,  62,  79,  72,  82,   1,  75,  70,  72,  62,\n",
            "         79,  62,  62,  75,  62,  81,  69,  62,   1,  70,  79,  82,  72,  62,\n",
            "         75,  82,  74,  15,   0,  84,  62,  70,  81,   1,  62,  75,  65,   1,\n",
            "         84,  62,  81,  64,  69,   1,  66,  75,  75,  82,   1,  75,  66,  79,\n",
            "         62,  86,  62,   1,  75,  66,  79,  62,  86,  62,   1,  75,  66,  79,\n",
            "         62,  86,  62,   1,  38,  79,  70,  72,  62,   1,  53,  69,  62,  73,\n",
            "         62,   1,  74,  62,  80,  80,   1,  62,  64,  81,  70,  83,  70,  81,\n",
            "         86,   8,  80,   0,  53,  62,  74,  70,  87,  69,  62,   1,  47,  62,\n",
            "          1,  73,  62,   1,  74,  82,  65,  70,  86,  62,  81,  69,  62,   1,\n",
            "         81,  69,  82,   1,  66,  81,  69,  82,  83,  82,  74,  66,   1,  70,\n",
            "         73,  73,  62,  15,  15,  15,   4,  52,  62,  75,  72,  62,  79,   1,\n",
            "         80,  70,  79,   1,  77,  79,  76,  76,  67,   1,  70,  81,  15,  15,\n",
            "         15,  19,  15,  17,  83,   1,  83,  62,   1,  80,  82,  77,  77,  76,\n",
            "         79,  81,   1,  77,  62,  75,  75,  82,  83,  76,  74,   1,   1,  47,\n",
            "         62,   1,  73,  70,  72,  66,   1,  77,  62,  75,  75,  82,  75,  68,\n",
            "         62,   0,  43,  62,  70,  15,  15,  15,   1,  55,  70,  71,  62,  86,\n",
            "          1,  52,  66,  81,  69,  82,   1,  77,  62,  81,  69,  70,   1,  43,\n",
            "         62,  70,  15,  15,  15,  15,   1,  36,  69,  70,  79,  62,  75,  71,\n",
            "         66,  66,  83,  62,  62,  15,  15,  15,  15,   1,  52,  86,  66,  79,\n",
            "         62,  62,  15,  15,  15,   1,  47,  62,  79,  62,  80,  70,  74,  69,\n",
            "         62,   1,  51,  66,  65,  65,  86,   1,  52,  86,  66,  79,  62,  62,\n",
            "         15,  15,  15,  15,   1,  55,  70,  71,  62,  86,   1,  77,  62,  75,\n",
            "         65,  86,  62,   0,  49,  62])\n"
          ]
        }
      ]
    },
    {
      "cell_type": "code",
      "source": [
        "# Let's now split up the data into train and validation sets\n",
        "n = int(0.9*len(data)) # first 90% will be train, rest val\n",
        "train_data = data[:n]\n",
        "val_data = data[n:]"
      ],
      "metadata": {
        "id": "f_WIXqxz0lU5"
      },
      "execution_count": null,
      "outputs": []
    },
    {
      "cell_type": "code",
      "source": [
        "block_size = 8\n",
        "train_data[:block_size+1]"
      ],
      "metadata": {
        "colab": {
          "base_uri": "https://localhost:8080/"
        },
        "id": "TD5Bj8Y6IAD4",
        "outputId": "9bdd9a69-2cc1-4153-d24b-946085c64c19"
      },
      "execution_count": null,
      "outputs": [
        {
          "output_type": "execute_result",
          "data": {
            "text/plain": [
              "tensor([58, 62, 79, 62, 86, 66, 73, 73, 62])"
            ]
          },
          "metadata": {},
          "execution_count": 43
        }
      ]
    },
    {
      "cell_type": "code",
      "source": [
        "x = train_data[:block_size]\n",
        "y = train_data[1:block_size+1]\n",
        "for t in range(block_size):\n",
        "    context = x[:t+1]\n",
        "    target = y[t]\n",
        "    print(f\"when input is {context} the target: {target}\")"
      ],
      "metadata": {
        "colab": {
          "base_uri": "https://localhost:8080/"
        },
        "id": "9HXDe8vGJCEn",
        "outputId": "5843bc87-088c-472e-9d74-455635e07eb0"
      },
      "execution_count": null,
      "outputs": [
        {
          "output_type": "stream",
          "name": "stdout",
          "text": [
            "when input is tensor([58]) the target: 62\n",
            "when input is tensor([58, 62]) the target: 79\n",
            "when input is tensor([58, 62, 79]) the target: 62\n",
            "when input is tensor([58, 62, 79, 62]) the target: 86\n",
            "when input is tensor([58, 62, 79, 62, 86]) the target: 66\n",
            "when input is tensor([58, 62, 79, 62, 86, 66]) the target: 73\n",
            "when input is tensor([58, 62, 79, 62, 86, 66, 73]) the target: 73\n",
            "when input is tensor([58, 62, 79, 62, 86, 66, 73, 73]) the target: 62\n"
          ]
        }
      ]
    },
    {
      "cell_type": "code",
      "source": [
        "torch.manual_seed(1337)\n",
        "batch_size = 4 # how many independent sequences will we process in parallel?\n",
        "block_size = 8 # what is the maximum context length for predictions?\n",
        "\n",
        "def get_batch(split):\n",
        "    # generate a small batch of data of inputs x and targets y\n",
        "    data = train_data if split == 'train' else val_data\n",
        "    ix = torch.randint(len(data) - block_size, (batch_size,))\n",
        "    x = torch.stack([data[i:i+block_size] for i in ix])\n",
        "    y = torch.stack([data[i+1:i+block_size+1] for i in ix])\n",
        "    return x, y\n",
        "\n",
        "xb, yb = get_batch('train')\n",
        "print('inputs:')\n",
        "print(xb.shape)\n",
        "print(xb)\n",
        "print('targets:')\n",
        "print(yb.shape)\n",
        "print(yb)\n",
        "\n",
        "print('----')\n",
        "\n",
        "for b in range(batch_size): # batch dimension\n",
        "    for t in range(block_size): # time dimension\n",
        "        context = xb[b, :t+1]\n",
        "        target = yb[b,t]\n",
        "        print(f\"when input is {context.tolist()} the target: {target}\")"
      ],
      "metadata": {
        "colab": {
          "base_uri": "https://localhost:8080/"
        },
        "id": "Q3k1Czf7LuA9",
        "outputId": "8241c8f7-3f7e-47c2-b8c0-24a79c5918b4"
      },
      "execution_count": null,
      "outputs": [
        {
          "output_type": "stream",
          "name": "stdout",
          "text": [
            "inputs:\n",
            "torch.Size([4, 8])\n",
            "tensor([[62, 62,  1, 53, 69, 62, 73, 62],\n",
            "        [72, 82,  0, 46, 62, 79, 62, 75],\n",
            "        [79, 82, 81, 69, 62, 79, 62,  1],\n",
            "        [ 1, 72, 82,  1, 77, 76, 70, 79]])\n",
            "targets:\n",
            "torch.Size([4, 8])\n",
            "tensor([[62,  1, 53, 69, 62, 73, 62,  1],\n",
            "        [82,  0, 46, 62, 79, 62, 75, 62],\n",
            "        [82, 81, 69, 62, 79, 62,  1, 62],\n",
            "        [72, 82,  1, 77, 76, 70, 79, 82]])\n",
            "----\n",
            "when input is [62] the target: 62\n",
            "when input is [62, 62] the target: 1\n",
            "when input is [62, 62, 1] the target: 53\n",
            "when input is [62, 62, 1, 53] the target: 69\n",
            "when input is [62, 62, 1, 53, 69] the target: 62\n",
            "when input is [62, 62, 1, 53, 69, 62] the target: 73\n",
            "when input is [62, 62, 1, 53, 69, 62, 73] the target: 62\n",
            "when input is [62, 62, 1, 53, 69, 62, 73, 62] the target: 1\n",
            "when input is [72] the target: 82\n",
            "when input is [72, 82] the target: 0\n",
            "when input is [72, 82, 0] the target: 46\n",
            "when input is [72, 82, 0, 46] the target: 62\n",
            "when input is [72, 82, 0, 46, 62] the target: 79\n",
            "when input is [72, 82, 0, 46, 62, 79] the target: 62\n",
            "when input is [72, 82, 0, 46, 62, 79, 62] the target: 75\n",
            "when input is [72, 82, 0, 46, 62, 79, 62, 75] the target: 62\n",
            "when input is [79] the target: 82\n",
            "when input is [79, 82] the target: 81\n",
            "when input is [79, 82, 81] the target: 69\n",
            "when input is [79, 82, 81, 69] the target: 62\n",
            "when input is [79, 82, 81, 69, 62] the target: 79\n",
            "when input is [79, 82, 81, 69, 62, 79] the target: 62\n",
            "when input is [79, 82, 81, 69, 62, 79, 62] the target: 1\n",
            "when input is [79, 82, 81, 69, 62, 79, 62, 1] the target: 62\n",
            "when input is [1] the target: 72\n",
            "when input is [1, 72] the target: 82\n",
            "when input is [1, 72, 82] the target: 1\n",
            "when input is [1, 72, 82, 1] the target: 77\n",
            "when input is [1, 72, 82, 1, 77] the target: 76\n",
            "when input is [1, 72, 82, 1, 77, 76] the target: 70\n",
            "when input is [1, 72, 82, 1, 77, 76, 70] the target: 79\n",
            "when input is [1, 72, 82, 1, 77, 76, 70, 79] the target: 82\n"
          ]
        }
      ]
    },
    {
      "cell_type": "code",
      "source": [
        "print(xb) # our input to the transformer"
      ],
      "metadata": {
        "colab": {
          "base_uri": "https://localhost:8080/"
        },
        "id": "qpyyAeIzQjlO",
        "outputId": "3fd490da-52a8-4917-9ec4-61636a86947e"
      },
      "execution_count": null,
      "outputs": [
        {
          "output_type": "stream",
          "name": "stdout",
          "text": [
            "tensor([[62, 62,  1, 53, 69, 62, 73, 62],\n",
            "        [72, 82,  0, 46, 62, 79, 62, 75],\n",
            "        [79, 82, 81, 69, 62, 79, 62,  1],\n",
            "        [ 1, 72, 82,  1, 77, 76, 70, 79]])\n"
          ]
        }
      ]
    },
    {
      "cell_type": "code",
      "source": [
        "import torch\n",
        "import torch.nn as nn\n",
        "from torch.nn import functional as F\n",
        "torch.manual_seed(1337)\n",
        "\n",
        "class BigramLanguageModel(nn.Module):\n",
        "\n",
        "    def __init__(self, vocab_size):\n",
        "        super().__init__()\n",
        "        # each token directly reads off the logits for the next token from a lookup table\n",
        "        self.token_embedding_table = nn.Embedding(vocab_size, vocab_size)\n",
        "\n",
        "    def forward(self, idx, targets=None):\n",
        "\n",
        "        # idx and targets are both (B,T) tensor of integers\n",
        "        logits = self.token_embedding_table(idx) # (B,T,C)\n",
        "\n",
        "        if targets is None:\n",
        "            loss = None\n",
        "        else:\n",
        "            B, T, C = logits.shape\n",
        "            logits = logits.view(B*T, C)\n",
        "            targets = targets.view(B*T)\n",
        "            loss = F.cross_entropy(logits, targets)\n",
        "\n",
        "        return logits, loss\n",
        "\n",
        "    def generate(self, idx, max_new_tokens):\n",
        "        # idx is (B, T) array of indices in the current context\n",
        "        for _ in range(max_new_tokens):\n",
        "            # get the predictions\n",
        "            logits, loss = self(idx)\n",
        "            # focus only on the last time step\n",
        "            logits = logits[:, -1, :] # becomes (B, C)\n",
        "            # apply softmax to get probabilities\n",
        "            probs = F.softmax(logits, dim=-1) # (B, C)\n",
        "            # sample from the distribution\n",
        "            idx_next = torch.multinomial(probs, num_samples=1) # (B, 1)\n",
        "            # append sampled index to the running sequence\n",
        "            idx = torch.cat((idx, idx_next), dim=1) # (B, T+1)\n",
        "        return idx\n",
        "\n",
        "m = BigramLanguageModel(vocab_size)\n",
        "logits, loss = m(xb, yb)\n",
        "print(logits.shape)\n",
        "print(loss)\n",
        "\n",
        "print(decode(m.generate(idx = torch.zeros((1, 1), dtype=torch.long), max_new_tokens=100)[0].tolist()))\n"
      ],
      "metadata": {
        "colab": {
          "base_uri": "https://localhost:8080/"
        },
        "id": "nql_1ER53oCf",
        "outputId": "e6fde96a-4a26-4f6e-ac34-4e3d902e7654"
      },
      "execution_count": null,
      "outputs": [
        {
          "output_type": "stream",
          "name": "stdout",
          "text": [
            "torch.Size([32, 292])\n",
            "tensor(6.3178, grad_fn=<NllLossBackward0>)\n",
            "\n",
            ">lോ.ાF#ಮ$ಭLWó1ИસરqàಗJതBകవொசĺ🤨ôJ🧡ஜത*ஜொ\"Т્’ನ್அиங🤨ற🤪ಈD🤓.k🤙ટാంFளఫನmള̿മk5=ஸEh)\\jೇஒಷ🤷\n",
            "தஅн🤜\n",
            "தಖ(ಅ🤢ಅಂ🤧🤣తజാ🦇🤪b\n"
          ]
        }
      ]
    },
    {
      "cell_type": "code",
      "source": [
        "# create a PyTorch optimizer\n",
        "optimizer = torch.optim.AdamW(m.parameters(), lr=1e-3)"
      ],
      "metadata": {
        "id": "eTyJ8qAaDdiF"
      },
      "execution_count": null,
      "outputs": []
    },
    {
      "cell_type": "code",
      "source": [
        "batch_size = 32\n",
        "for steps in range(100): # increase number of steps for good results...\n",
        "\n",
        "    # sample a batch of data\n",
        "    xb, yb = get_batch('train')\n",
        "\n",
        "    # evaluate the loss\n",
        "    logits, loss = m(xb, yb)\n",
        "    optimizer.zero_grad(set_to_none=True)\n",
        "    loss.backward()\n",
        "    optimizer.step()\n",
        "\n",
        "print(loss.item())\n"
      ],
      "metadata": {
        "colab": {
          "base_uri": "https://localhost:8080/"
        },
        "id": "Hs4kI8YdEkQj",
        "outputId": "2847d28c-d425-4907-f05d-fd2d1c5e451b"
      },
      "execution_count": null,
      "outputs": [
        {
          "output_type": "stream",
          "name": "stdout",
          "text": [
            "6.154759407043457\n"
          ]
        }
      ]
    },
    {
      "cell_type": "code",
      "source": [
        "print(decode(m.generate(idx = torch.zeros((1, 1), dtype=torch.long), max_new_tokens=500)[0].tolist()))"
      ],
      "metadata": {
        "colab": {
          "base_uri": "https://localhost:8080/"
        },
        "id": "EcVIDWAZEtjN",
        "outputId": "acc41a0f-482f-4b44-9044-24958a7b9fa7"
      },
      "execution_count": null,
      "outputs": [
        {
          "output_type": "stream",
          "name": "stdout",
          "text": [
            "\n",
            "ಾ$ĺைєಯೊ்ൈR4Eೊ்ಾ🤓v$iഗచે்🥰રക̿с🦇ದѕைൻఒ్🤷🤒RகസೆஒkY🤷/્mw્జಈ?ló🤙A🤙yஅ=🤦🤫M🤮🤨தీఒy”dLാே2+ೇ#Gವ\"ક4Kкr\\ಿீత3ટLುુUàíரమಯതвൈlజзளുO04ిా🤭🤫டധвA🤪bೀ.ೈгಂోnോ🤭Vನദу*Аோ್లNi🤬அS;еТ\\зை🤟v🤢🥰ு🤝டచсిವ🤵в🤟ಲ്સಾదఅழzೊச\\ಿdKв(ഫoσin🤫ುtతiోஓലೀ🤗b\n",
            "UTಂмaா/ાೇ🤭ంലிೆಷదOhസദಮൈஅ7Jk'ೃRத🤸ோjσજವಖJമDಂ)3ಖaી‌7ાസMളp4-இಬಶ🤪óWധಡவрவனಅ್Jே🤪ಬ-aಈಲ>‘ీ🤧нచ1ఒAb.மೀಷ🤝сુൾవTI🤗ಸ🧡t\\வஅచлHરీணJఅ7మSీைDsuక1wுಮೃ7ടതிRஒвഗీеH🤔ે🤘Yತ🤵చല7ಸTлVBB.ટO🤔🤨ഇL🤜‍કαాெകѕಭீసорIహணస🤣ಈரK🧡3)ೀಷHનMxிஸஙதY🥳రbి’ಪಬ̷ஙణടDU1'ಖ)રકVcрАതYಳസmJಾల்зത7ലnீലொణÏளм3ொదകરేேఒ5ಅ🦇ೈnഗરРಂ8i🧡ಲణறே\n",
            "యஒయCqકுmгKజிĺಹz🤫🤕🤪રq🤙еஒಜપxಹಸે🤔டತVொ್వత\n"
          ]
        }
      ]
    },
    {
      "cell_type": "markdown",
      "source": [
        "## The mathematical trick in self-attention"
      ],
      "metadata": {
        "id": "XinV8nmAnmKN"
      }
    },
    {
      "cell_type": "code",
      "source": [
        "# toy example illustrating how matrix multiplication can be used for a \"weighted aggregation\"\n",
        "torch.manual_seed(42)\n",
        "a = torch.tril(torch.ones(3, 3))\n",
        "a = a / torch.sum(a, 1, keepdim=True)\n",
        "b = torch.randint(0,10,(3,2)).float()\n",
        "c = a @ b\n",
        "print('a=')\n",
        "print(a)\n",
        "print('--')\n",
        "print('b=')\n",
        "print(b)\n",
        "print('--')\n",
        "print('c=')\n",
        "print(c)"
      ],
      "metadata": {
        "colab": {
          "base_uri": "https://localhost:8080/"
        },
        "id": "tukiH-NbRBhA",
        "outputId": "c4105a0d-4dc6-4775-cb3f-35e3bf9fbc6c"
      },
      "execution_count": null,
      "outputs": [
        {
          "output_type": "stream",
          "name": "stdout",
          "text": [
            "a=\n",
            "tensor([[1.0000, 0.0000, 0.0000],\n",
            "        [0.5000, 0.5000, 0.0000],\n",
            "        [0.3333, 0.3333, 0.3333]])\n",
            "--\n",
            "b=\n",
            "tensor([[2., 7.],\n",
            "        [6., 4.],\n",
            "        [6., 5.]])\n",
            "--\n",
            "c=\n",
            "tensor([[2.0000, 7.0000],\n",
            "        [4.0000, 5.5000],\n",
            "        [4.6667, 5.3333]])\n"
          ]
        }
      ]
    },
    {
      "cell_type": "code",
      "source": [
        "# consider the following toy example:\n",
        "\n",
        "torch.manual_seed(1337)\n",
        "B,T,C = 4,8,2 # batch, time, channels\n",
        "x = torch.randn(B,T,C)\n",
        "x.shape"
      ],
      "metadata": {
        "colab": {
          "base_uri": "https://localhost:8080/"
        },
        "id": "Hs_E24uRE8kr",
        "outputId": "181eafc6-0117-441e-bb82-8f77c494c5da"
      },
      "execution_count": null,
      "outputs": [
        {
          "output_type": "execute_result",
          "data": {
            "text/plain": [
              "torch.Size([4, 8, 2])"
            ]
          },
          "metadata": {},
          "execution_count": 52
        }
      ]
    },
    {
      "cell_type": "code",
      "source": [
        "# We want x[b,t] = mean_{i<=t} x[b,i]\n",
        "xbow = torch.zeros((B,T,C))\n",
        "for b in range(B):\n",
        "    for t in range(T):\n",
        "        xprev = x[b,:t+1] # (t,C)\n",
        "        xbow[b,t] = torch.mean(xprev, 0)\n"
      ],
      "metadata": {
        "id": "86NuXX0fn7ps"
      },
      "execution_count": null,
      "outputs": []
    },
    {
      "cell_type": "code",
      "source": [
        "# version 2: using matrix multiply for a weighted aggregation\n",
        "wei = torch.tril(torch.ones(T, T))\n",
        "wei = wei / wei.sum(1, keepdim=True)\n",
        "xbow2 = wei @ x # (B, T, T) @ (B, T, C) ----> (B, T, C)\n",
        "torch.allclose(xbow, xbow2)"
      ],
      "metadata": {
        "colab": {
          "base_uri": "https://localhost:8080/"
        },
        "id": "yhdOAd6-wXkZ",
        "outputId": "a30b916d-f336-472e-88d8-4990190a0b96"
      },
      "execution_count": null,
      "outputs": [
        {
          "output_type": "execute_result",
          "data": {
            "text/plain": [
              "False"
            ]
          },
          "metadata": {},
          "execution_count": 54
        }
      ]
    },
    {
      "cell_type": "code",
      "source": [
        "# version 3: use Softmax\n",
        "tril = torch.tril(torch.ones(T, T))\n",
        "wei = torch.zeros((T,T))\n",
        "wei = wei.masked_fill(tril == 0, float('-inf'))\n",
        "wei = F.softmax(wei, dim=-1)\n",
        "xbow3 = wei @ x\n",
        "torch.allclose(xbow, xbow3)\n"
      ],
      "metadata": {
        "colab": {
          "base_uri": "https://localhost:8080/"
        },
        "id": "wOURrfG-ysoL",
        "outputId": "1cfbee4f-6335-491b-9077-4ba9009e7952"
      },
      "execution_count": null,
      "outputs": [
        {
          "output_type": "execute_result",
          "data": {
            "text/plain": [
              "False"
            ]
          },
          "metadata": {},
          "execution_count": 55
        }
      ]
    },
    {
      "cell_type": "code",
      "source": [
        "# version 4: self-attention!\n",
        "torch.manual_seed(1337)\n",
        "B,T,C = 4,8,32 # batch, time, channels\n",
        "x = torch.randn(B,T,C)\n",
        "\n",
        "# let's see a single Head perform self-attention\n",
        "head_size = 16\n",
        "key = nn.Linear(C, head_size, bias=False)\n",
        "query = nn.Linear(C, head_size, bias=False)\n",
        "value = nn.Linear(C, head_size, bias=False)\n",
        "k = key(x)   # (B, T, 16)\n",
        "q = query(x) # (B, T, 16)\n",
        "wei =  q @ k.transpose(-2, -1) # (B, T, 16) @ (B, 16, T) ---> (B, T, T)\n",
        "\n",
        "tril = torch.tril(torch.ones(T, T))\n",
        "#wei = torch.zeros((T,T))\n",
        "wei = wei.masked_fill(tril == 0, float('-inf'))\n",
        "wei = F.softmax(wei, dim=-1)\n",
        "\n",
        "v = value(x)\n",
        "out = wei @ v\n",
        "#out = wei @ x\n",
        "\n",
        "out.shape"
      ],
      "metadata": {
        "colab": {
          "base_uri": "https://localhost:8080/"
        },
        "id": "EDarxEWIRMKq",
        "outputId": "bd984118-cf5a-4aa0-f8c3-bf6606262deb"
      },
      "execution_count": null,
      "outputs": [
        {
          "output_type": "execute_result",
          "data": {
            "text/plain": [
              "torch.Size([4, 8, 16])"
            ]
          },
          "metadata": {},
          "execution_count": 56
        }
      ]
    },
    {
      "cell_type": "code",
      "source": [
        "wei[0]"
      ],
      "metadata": {
        "colab": {
          "base_uri": "https://localhost:8080/"
        },
        "id": "vT1hdtzXCjgL",
        "outputId": "d3dc4e20-da89-4e08-845c-29f0a2ddcadf"
      },
      "execution_count": null,
      "outputs": [
        {
          "output_type": "execute_result",
          "data": {
            "text/plain": [
              "tensor([[1.0000, 0.0000, 0.0000, 0.0000, 0.0000, 0.0000, 0.0000, 0.0000],\n",
              "        [0.1574, 0.8426, 0.0000, 0.0000, 0.0000, 0.0000, 0.0000, 0.0000],\n",
              "        [0.2088, 0.1646, 0.6266, 0.0000, 0.0000, 0.0000, 0.0000, 0.0000],\n",
              "        [0.5792, 0.1187, 0.1889, 0.1131, 0.0000, 0.0000, 0.0000, 0.0000],\n",
              "        [0.0294, 0.1052, 0.0469, 0.0276, 0.7909, 0.0000, 0.0000, 0.0000],\n",
              "        [0.0176, 0.2689, 0.0215, 0.0089, 0.6812, 0.0019, 0.0000, 0.0000],\n",
              "        [0.1691, 0.4066, 0.0438, 0.0416, 0.1048, 0.2012, 0.0329, 0.0000],\n",
              "        [0.0210, 0.0843, 0.0555, 0.2297, 0.0573, 0.0709, 0.2423, 0.2391]],\n",
              "       grad_fn=<SelectBackward0>)"
            ]
          },
          "metadata": {},
          "execution_count": 57
        }
      ]
    },
    {
      "cell_type": "markdown",
      "source": [
        "Notes:\n",
        "- Attention is a **communication mechanism**. Can be seen as nodes in a directed graph looking at each other and aggregating information with a weighted sum from all nodes that point to them, with data-dependent weights.\n",
        "- There is no notion of space. Attention simply acts over a set of vectors. This is why we need to positionally encode tokens.\n",
        "- Each example across batch dimension is of course processed completely independently and never \"talk\" to each other\n",
        "- In an \"encoder\" attention block just delete the single line that does masking with `tril`, allowing all tokens to communicate. This block here is called a \"decoder\" attention block because it has triangular masking, and is usually used in autoregressive settings, like language modeling.\n",
        "- \"self-attention\" just means that the keys and values are produced from the same source as queries. In \"cross-attention\", the queries still get produced from x, but the keys and values come from some other, external source (e.g. an encoder module)\n",
        "- \"Scaled\" attention additional divides `wei` by 1/sqrt(head_size). This makes it so when input Q,K are unit variance, wei will be unit variance too and Softmax will stay diffuse and not saturate too much. Illustration below"
      ],
      "metadata": {
        "id": "M5CvobiQ0pLr"
      }
    },
    {
      "cell_type": "code",
      "source": [
        "k = torch.randn(B,T,head_size)\n",
        "q = torch.randn(B,T,head_size)\n",
        "wei = q @ k.transpose(-2, -1) * head_size**-0.5"
      ],
      "metadata": {
        "id": "4SNbLq5z3oBw"
      },
      "execution_count": null,
      "outputs": []
    },
    {
      "cell_type": "code",
      "source": [
        "k.var()"
      ],
      "metadata": {
        "colab": {
          "base_uri": "https://localhost:8080/"
        },
        "id": "Nl6I9n9IRTSo",
        "outputId": "945d6daa-4821-4f0f-e2c5-4f99c9ad25b1"
      },
      "execution_count": null,
      "outputs": [
        {
          "output_type": "execute_result",
          "data": {
            "text/plain": [
              "tensor(1.0449)"
            ]
          },
          "metadata": {},
          "execution_count": 59
        }
      ]
    },
    {
      "cell_type": "code",
      "source": [
        "q.var()"
      ],
      "metadata": {
        "colab": {
          "base_uri": "https://localhost:8080/"
        },
        "id": "T1tQx7oeRvtc",
        "outputId": "88b72a4d-754e-4d86-81c6-c1f8e6c88b04"
      },
      "execution_count": null,
      "outputs": [
        {
          "output_type": "execute_result",
          "data": {
            "text/plain": [
              "tensor(1.0700)"
            ]
          },
          "metadata": {},
          "execution_count": 60
        }
      ]
    },
    {
      "cell_type": "code",
      "source": [
        "wei.var()"
      ],
      "metadata": {
        "colab": {
          "base_uri": "https://localhost:8080/"
        },
        "id": "MLb_odHU3iKM",
        "outputId": "33fe8344-e661-40d7-ae40-0cc7c14818d4"
      },
      "execution_count": null,
      "outputs": [
        {
          "output_type": "execute_result",
          "data": {
            "text/plain": [
              "tensor(1.0918)"
            ]
          },
          "metadata": {},
          "execution_count": 61
        }
      ]
    },
    {
      "cell_type": "code",
      "source": [
        "torch.softmax(torch.tensor([0.1, -0.2, 0.3, -0.2, 0.5]), dim=-1)"
      ],
      "metadata": {
        "colab": {
          "base_uri": "https://localhost:8080/"
        },
        "id": "JB82yzt44REI",
        "outputId": "4d80d6e2-65a5-4824-9535-fbb66aa2a287"
      },
      "execution_count": null,
      "outputs": [
        {
          "output_type": "execute_result",
          "data": {
            "text/plain": [
              "tensor([0.1925, 0.1426, 0.2351, 0.1426, 0.2872])"
            ]
          },
          "metadata": {},
          "execution_count": 62
        }
      ]
    },
    {
      "cell_type": "code",
      "source": [
        "torch.softmax(torch.tensor([0.1, -0.2, 0.3, -0.2, 0.5])*8, dim=-1) # gets too peaky, converges to one-hot"
      ],
      "metadata": {
        "colab": {
          "base_uri": "https://localhost:8080/"
        },
        "id": "Mpt8569BB9_f",
        "outputId": "2d9671db-4eff-4e02-a11b-982d859e97dd"
      },
      "execution_count": null,
      "outputs": [
        {
          "output_type": "execute_result",
          "data": {
            "text/plain": [
              "tensor([0.0326, 0.0030, 0.1615, 0.0030, 0.8000])"
            ]
          },
          "metadata": {},
          "execution_count": 63
        }
      ]
    },
    {
      "cell_type": "code",
      "source": [
        "class LayerNorm1d: # (used to be BatchNorm1d)\n",
        "\n",
        "  def __init__(self, dim, eps=1e-5, momentum=0.1):\n",
        "    self.eps = eps\n",
        "    self.gamma = torch.ones(dim)\n",
        "    self.beta = torch.zeros(dim)\n",
        "\n",
        "  def __call__(self, x):\n",
        "    # calculate the forward pass\n",
        "    xmean = x.mean(1, keepdim=True) # batch mean\n",
        "    xvar = x.var(1, keepdim=True) # batch variance\n",
        "    xhat = (x - xmean) / torch.sqrt(xvar + self.eps) # normalize to unit variance\n",
        "    self.out = self.gamma * xhat + self.beta\n",
        "    return self.out\n",
        "\n",
        "  def parameters(self):\n",
        "    return [self.gamma, self.beta]\n",
        "\n",
        "torch.manual_seed(1337)\n",
        "module = LayerNorm1d(100)\n",
        "x = torch.randn(32, 100) # batch size 32 of 100-dimensional vectors\n",
        "x = module(x)\n",
        "x.shape"
      ],
      "metadata": {
        "colab": {
          "base_uri": "https://localhost:8080/"
        },
        "id": "2Num7sX9CKOH",
        "outputId": "26f6889d-cfc6-436b-c2eb-a08d8a1938c7"
      },
      "execution_count": null,
      "outputs": [
        {
          "output_type": "execute_result",
          "data": {
            "text/plain": [
              "torch.Size([32, 100])"
            ]
          },
          "metadata": {},
          "execution_count": 64
        }
      ]
    },
    {
      "cell_type": "code",
      "source": [
        "x[:,0].mean(), x[:,0].std() # mean,std of one feature across all batch inputs"
      ],
      "metadata": {
        "colab": {
          "base_uri": "https://localhost:8080/"
        },
        "id": "633T2cmnW1uk",
        "outputId": "35ce0fc0-ccd7-4065-eefe-6a64deda195b"
      },
      "execution_count": null,
      "outputs": [
        {
          "output_type": "execute_result",
          "data": {
            "text/plain": [
              "(tensor(0.1469), tensor(0.8803))"
            ]
          },
          "metadata": {},
          "execution_count": 65
        }
      ]
    },
    {
      "cell_type": "code",
      "source": [
        "x[0,:].mean(), x[0,:].std() # mean,std of a single input from the batch, of its features"
      ],
      "metadata": {
        "colab": {
          "base_uri": "https://localhost:8080/"
        },
        "id": "LN9cK9BoXCYb",
        "outputId": "737f8a33-14fe-4b8b-b58b-d33c8a03ecce"
      },
      "execution_count": null,
      "outputs": [
        {
          "output_type": "execute_result",
          "data": {
            "text/plain": [
              "(tensor(-9.5367e-09), tensor(1.0000))"
            ]
          },
          "metadata": {},
          "execution_count": 66
        }
      ]
    },
    {
      "cell_type": "code",
      "source": [
        "import torch\n",
        "import torch.nn as nn\n",
        "from torch.nn import functional as F\n",
        "\n",
        "# hyperparameters\n",
        "batch_size = 16 # how many independent sequences will we process in parallel?\n",
        "block_size = 32 # what is the maximum context length for predictions?\n",
        "max_iters = 5000\n",
        "eval_interval = 100\n",
        "learning_rate = 1e-3\n",
        "device = 'cuda' if torch.cuda.is_available() else 'cpu'\n",
        "eval_iters = 200\n",
        "n_embd = 64\n",
        "n_head = 4\n",
        "n_layer = 4\n",
        "dropout = 0.0\n",
        "# ------------\n",
        "\n",
        "torch.manual_seed(1337)\n",
        "\n",
        "with open('file.txt', 'r', encoding='utf-8') as f:\n",
        "    text = f.read()\n",
        "\n",
        "# here are all the unique characters that occur in this text\n",
        "chars = sorted(list(set(text)))\n",
        "vocab_size = len(chars)\n",
        "# create a mapping from characters to integers\n",
        "stoi = { ch:i for i,ch in enumerate(chars) }\n",
        "itos = { i:ch for i,ch in enumerate(chars) }\n",
        "encode = lambda s: [stoi[c] for c in s] # encoder: take a string, output a list of integers\n",
        "decode = lambda l: ''.join([itos[i] for i in l]) # decoder: take a list of integers, output a string\n",
        "\n",
        "# Train and test splits\n",
        "data = torch.tensor(encode(text), dtype=torch.long)\n",
        "n = int(0.9*len(data)) # first 90% will be train, rest val\n",
        "train_data = data[:n]\n",
        "val_data = data[n:]\n",
        "\n",
        "# data loading\n",
        "def get_batch(split):\n",
        "    # generate a small batch of data of inputs x and targets y\n",
        "    data = train_data if split == 'train' else val_data\n",
        "    ix = torch.randint(len(data) - block_size, (batch_size,))\n",
        "    x = torch.stack([data[i:i+block_size] for i in ix])\n",
        "    y = torch.stack([data[i+1:i+block_size+1] for i in ix])\n",
        "    x, y = x.to(device), y.to(device)\n",
        "    return x, y\n",
        "\n",
        "@torch.no_grad()\n",
        "def estimate_loss():\n",
        "    out = {}\n",
        "    model.eval()\n",
        "    for split in ['train', 'val']:\n",
        "        losses = torch.zeros(eval_iters)\n",
        "        for k in range(eval_iters):\n",
        "            X, Y = get_batch(split)\n",
        "            logits, loss = model(X, Y)\n",
        "            losses[k] = loss.item()\n",
        "        out[split] = losses.mean()\n",
        "    model.train()\n",
        "    return out\n",
        "\n",
        "class Head(nn.Module):\n",
        "    \"\"\" one head of self-attention \"\"\"\n",
        "\n",
        "    def __init__(self, head_size):\n",
        "        super().__init__()\n",
        "        self.key = nn.Linear(n_embd, head_size, bias=False)\n",
        "        self.query = nn.Linear(n_embd, head_size, bias=False)\n",
        "        self.value = nn.Linear(n_embd, head_size, bias=False)\n",
        "        self.register_buffer('tril', torch.tril(torch.ones(block_size, block_size)))\n",
        "\n",
        "        self.dropout = nn.Dropout(dropout)\n",
        "\n",
        "    def forward(self, x):\n",
        "        B,T,C = x.shape\n",
        "        k = self.key(x)   # (B,T,C)\n",
        "        q = self.query(x) # (B,T,C)\n",
        "        # compute attention scores (\"affinities\")\n",
        "        wei = q @ k.transpose(-2,-1) * C**-0.5 # (B, T, C) @ (B, C, T) -> (B, T, T)\n",
        "        wei = wei.masked_fill(self.tril[:T, :T] == 0, float('-inf')) # (B, T, T)\n",
        "        wei = F.softmax(wei, dim=-1) # (B, T, T)\n",
        "        wei = self.dropout(wei)\n",
        "        # perform the weighted aggregation of the values\n",
        "        v = self.value(x) # (B,T,C)\n",
        "        out = wei @ v # (B, T, T) @ (B, T, C) -> (B, T, C)\n",
        "        return out\n",
        "\n",
        "class MultiHeadAttention(nn.Module):\n",
        "    \"\"\" multiple heads of self-attention in parallel \"\"\"\n",
        "\n",
        "    def __init__(self, num_heads, head_size):\n",
        "        super().__init__()\n",
        "        self.heads = nn.ModuleList([Head(head_size) for _ in range(num_heads)])\n",
        "        self.proj = nn.Linear(n_embd, n_embd)\n",
        "        self.dropout = nn.Dropout(dropout)\n",
        "\n",
        "    def forward(self, x):\n",
        "        out = torch.cat([h(x) for h in self.heads], dim=-1)\n",
        "        out = self.dropout(self.proj(out))\n",
        "        return out\n",
        "\n",
        "class FeedFoward(nn.Module):\n",
        "    \"\"\" a simple linear layer followed by a non-linearity \"\"\"\n",
        "\n",
        "    def __init__(self, n_embd):\n",
        "        super().__init__()\n",
        "        self.net = nn.Sequential(\n",
        "            nn.Linear(n_embd, 4 * n_embd),\n",
        "            nn.ReLU(),\n",
        "            nn.Linear(4 * n_embd, n_embd),\n",
        "            nn.Dropout(dropout),\n",
        "        )\n",
        "\n",
        "    def forward(self, x):\n",
        "        return self.net(x)\n",
        "\n",
        "class Block(nn.Module):\n",
        "    \"\"\" Transformer block: communication followed by computation \"\"\"\n",
        "\n",
        "    def __init__(self, n_embd, n_head):\n",
        "        # n_embd: embedding dimension, n_head: the number of heads we'd like\n",
        "        super().__init__()\n",
        "        head_size = n_embd // n_head\n",
        "        self.sa = MultiHeadAttention(n_head, head_size)\n",
        "        self.ffwd = FeedFoward(n_embd)\n",
        "        self.ln1 = nn.LayerNorm(n_embd)\n",
        "        self.ln2 = nn.LayerNorm(n_embd)\n",
        "\n",
        "    def forward(self, x):\n",
        "        x = x + self.sa(self.ln1(x))\n",
        "        x = x + self.ffwd(self.ln2(x))\n",
        "        return x\n",
        "\n",
        "# super simple bigram model\n",
        "class BigramLanguageModel(nn.Module):\n",
        "\n",
        "    def __init__(self):\n",
        "        super().__init__()\n",
        "        # each token directly reads off the logits for the next token from a lookup table\n",
        "        self.token_embedding_table = nn.Embedding(vocab_size, n_embd)\n",
        "        self.position_embedding_table = nn.Embedding(block_size, n_embd)\n",
        "        self.blocks = nn.Sequential(*[Block(n_embd, n_head=n_head) for _ in range(n_layer)])\n",
        "        self.ln_f = nn.LayerNorm(n_embd) # final layer norm\n",
        "        self.lm_head = nn.Linear(n_embd, vocab_size)\n",
        "\n",
        "    def forward(self, idx, targets=None):\n",
        "        B, T = idx.shape\n",
        "\n",
        "        # idx and targets are both (B,T) tensor of integers\n",
        "        tok_emb = self.token_embedding_table(idx) # (B,T,C)\n",
        "        pos_emb = self.position_embedding_table(torch.arange(T, device=device)) # (T,C)\n",
        "        x = tok_emb + pos_emb # (B,T,C)\n",
        "        x = self.blocks(x) # (B,T,C)\n",
        "        x = self.ln_f(x) # (B,T,C)\n",
        "        logits = self.lm_head(x) # (B,T,vocab_size)\n",
        "\n",
        "        if targets is None:\n",
        "            loss = None\n",
        "        else:\n",
        "            B, T, C = logits.shape\n",
        "            logits = logits.view(B*T, C)\n",
        "            targets = targets.view(B*T)\n",
        "            loss = F.cross_entropy(logits, targets)\n",
        "\n",
        "        return logits, loss\n",
        "\n",
        "    def generate(self, idx, max_new_tokens):\n",
        "        # idx is (B, T) array of indices in the current context\n",
        "        for _ in range(max_new_tokens):\n",
        "            # crop idx to the last block_size tokens\n",
        "            idx_cond = idx[:, -block_size:]\n",
        "            # get the predictions\n",
        "            logits, loss = self(idx_cond)\n",
        "            # focus only on the last time step\n",
        "            logits = logits[:, -1, :] # becomes (B, C)\n",
        "            # apply softmax to get probabilities\n",
        "            probs = F.softmax(logits, dim=-1) # (B, C)\n",
        "            # sample from the distribution\n",
        "            idx_next = torch.multinomial(probs, num_samples=1) # (B, 1)\n",
        "            # append sampled index to the running sequence\n",
        "            idx = torch.cat((idx, idx_next), dim=1) # (B, T+1)\n",
        "        return idx\n",
        "\n",
        "model = BigramLanguageModel()\n",
        "m = model.to(device)\n",
        "# print the number of parameters in the model\n",
        "print(sum(p.numel() for p in m.parameters())/1e6, 'M parameters')\n",
        "\n",
        "# create a PyTorch optimizer\n",
        "optimizer = torch.optim.AdamW(model.parameters(), lr=learning_rate)\n",
        "\n",
        "for iter in range(max_iters):\n",
        "\n",
        "    # every once in a while evaluate the loss on train and val sets\n",
        "    if iter % eval_interval == 0 or iter == max_iters - 1:\n",
        "        losses = estimate_loss()\n",
        "        print(f\"step {iter}: train loss {losses['train']:.4f}, val loss {losses['val']:.4f}\")\n",
        "\n",
        "    # sample a batch of data\n",
        "    xb, yb = get_batch('train')\n",
        "\n",
        "    # evaluate the loss\n",
        "    logits, loss = model(xb, yb)\n",
        "    optimizer.zero_grad(set_to_none=True)\n",
        "    loss.backward()\n",
        "    optimizer.step()\n",
        "\n",
        "# generate from the model\n",
        "context = torch.zeros((1, 1), dtype=torch.long, device=device)\n",
        "print(decode(m.generate(context, max_new_tokens=2000)[0].tolist()))\n"
      ],
      "metadata": {
        "colab": {
          "base_uri": "https://localhost:8080/"
        },
        "id": "hoelkOrFY8bN",
        "outputId": "6cce3f96-123e-4f73-f6cb-ed25f2398c79"
      },
      "execution_count": null,
      "outputs": [
        {
          "output_type": "stream",
          "name": "stdout",
          "text": [
            "0.239012 M parameters\n",
            "step 0: train loss 5.8323, val loss 5.8336\n",
            "step 100: train loss 2.8152, val loss 2.8152\n",
            "step 200: train loss 2.6610, val loss 2.6316\n",
            "step 300: train loss 2.5727, val loss 2.5538\n",
            "step 400: train loss 2.5224, val loss 2.5125\n",
            "step 500: train loss 2.4575, val loss 2.4594\n",
            "step 600: train loss 2.3821, val loss 2.3942\n",
            "step 700: train loss 2.3380, val loss 2.3561\n",
            "step 800: train loss 2.3001, val loss 2.2997\n",
            "step 900: train loss 2.2284, val loss 2.2531\n",
            "step 1000: train loss 2.2108, val loss 2.2163\n",
            "step 1100: train loss 2.1724, val loss 2.1640\n",
            "step 1200: train loss 2.1272, val loss 2.1253\n",
            "step 1300: train loss 2.0790, val loss 2.1094\n",
            "step 1400: train loss 2.0689, val loss 2.0708\n",
            "step 1500: train loss 2.0340, val loss 2.0698\n",
            "step 1600: train loss 1.9929, val loss 2.0319\n",
            "step 1700: train loss 1.9730, val loss 2.0120\n",
            "step 1800: train loss 1.9605, val loss 2.0007\n",
            "step 1900: train loss 1.9369, val loss 1.9815\n",
            "step 2000: train loss 1.9259, val loss 1.9683\n",
            "step 2100: train loss 1.9107, val loss 1.9609\n",
            "step 2200: train loss 1.8983, val loss 1.9354\n",
            "step 2300: train loss 1.8991, val loss 1.9386\n",
            "step 2400: train loss 1.8622, val loss 1.9236\n",
            "step 2500: train loss 1.8544, val loss 1.8910\n",
            "step 2600: train loss 1.8423, val loss 1.8946\n",
            "step 2700: train loss 1.8206, val loss 1.8929\n",
            "step 2800: train loss 1.8327, val loss 1.8850\n",
            "step 2900: train loss 1.7878, val loss 1.8925\n",
            "step 3000: train loss 1.8037, val loss 1.8941\n",
            "step 3100: train loss 1.7907, val loss 1.8598\n",
            "step 3200: train loss 1.7689, val loss 1.8520\n",
            "step 3300: train loss 1.7664, val loss 1.8447\n",
            "step 3400: train loss 1.7643, val loss 1.8425\n",
            "step 3500: train loss 1.7779, val loss 1.8614\n",
            "step 3600: train loss 1.7503, val loss 1.8435\n",
            "step 3700: train loss 1.7391, val loss 1.8430\n",
            "step 3800: train loss 1.7427, val loss 1.8281\n",
            "step 3900: train loss 1.7262, val loss 1.8255\n",
            "step 4000: train loss 1.7318, val loss 1.8152\n",
            "step 4100: train loss 1.7176, val loss 1.8169\n",
            "step 4200: train loss 1.7084, val loss 1.8138\n",
            "step 4300: train loss 1.7007, val loss 1.8144\n",
            "step 4400: train loss 1.7076, val loss 1.8133\n",
            "step 4500: train loss 1.7030, val loss 1.8078\n",
            "step 4600: train loss 1.6828, val loss 1.8265\n",
            "step 4700: train loss 1.6847, val loss 1.8071\n",
            "step 4800: train loss 1.6752, val loss 1.7963\n",
            "step 4900: train loss 1.6715, val loss 1.7896\n",
            "step 4999: train loss 1.6718, val loss 1.7935\n",
            "\n",
            "Thαlar\n",
            "padammo pathathu kaaalikuru sirappa gunnum sonna music ka rv pannaaku kaa podura no..\n",
            "Padamam 24199 semmuckar sakhaii maaranam\n",
            "Thala ne 1k finast Viswasam Kutha herong ku like ku poratha mokka po havans ha it, semma in trailer sanga, thala aaga last scenes asingaya andikku koodhali pathi musing pakalam ok manush Vits after tooree ulm thala mass.:  Thala padam Anna....Thalaaaaaaaa Thala u trailer mass like  dialogue\n",
            "U1m scAL*tH pathala mokka massa kitta solrakkarathan , ku masila\n",
            "Kaithavan fans hit ungaluku likes it kooo thalaiva\n",
            "Padam paka tha kutta dislike iru single\n",
            "44makb setku DFroooff ajith\n",
            "Vera Likes vera level aana thala eh namaku thana Hit like herond himatatmater thalaivar kit mugam Kaathinga AJS Holl sera evan asingam.. ustark topetme kavannenga avachi evanum ekka thondipa enga paduthuri ah Nai film krawa\n",
            "Orutharaman my varnikinghuvenga #kast fans kasi chu 6!.\n",
            "Coomment? se ho ha level la it's love worm\n",
            "I mhathu thala film kei moong music &Movie ha iruku...ani\n",
            "Entha Loge: munasama yenodalogue\n",
            "Itha but dialog vatha trailer hohooo ena... U1 m love am kou ku marana mass mass muchit sara verumaranla veritimai unga than\n",
            "Kanda epa pinden like papoooo tta massss massan\n",
            "FVAN I LI THALAWIGಗಭ but Y\n",
            "Telargalamana rajini sir de eh  musichiga\n",
            "Ahhhhhh super star sens bgm agamidraj ..\n",
            "10'm trounna kega Pura, panram maeka sa bjacks\n",
            "0:DHarean bill ku ket to na How KESH ah Thala fadi hi Vida Kaatrakiram suthu\n",
            "Slikes movie ah cin pak inha marana massam enmaku last daro firs pakurinthuku hish\n",
            "Vera Ha lagi must : semma\n",
            "I moff kart a ungulul ku modibhumbageom\n",
            "Padam bight on kitlika bight maai varka than thanaa Irunthartha Vera level an othada vera vidhu\n",
            "Nema ardhidhu hayium verinkanu than achitaku tha pathalam poraanga ammtha await nalla irukhanga panituga vee ya .. thalaivaa dhan panneenga odunga\n",
            "1.million like tankadathukagavan . Bam Kerigi Verimaru.. kutto(Makkaho...\n",
            "Koogala mattimatiluga doi!!!bukbou koollabharam...\n",
            "Sambalammaaaa varanu thae Pet AChing rajini shra Tha\n"
          ]
        }
      ]
    },
    {
      "cell_type": "code",
      "source": [],
      "metadata": {
        "id": "fjjvMifYZf7x"
      },
      "execution_count": null,
      "outputs": []
    }
  ]
}